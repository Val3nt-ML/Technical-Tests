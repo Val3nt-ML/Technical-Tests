{
  "nbformat": 4,
  "nbformat_minor": 0,
  "metadata": {
    "colab": {
      "name": "Accuracy_Prediction.ipynb",
      "provenance": [],
      "collapsed_sections": [],
      "include_colab_link": true
    },
    "kernelspec": {
      "name": "python3",
      "display_name": "Python 3"
    },
    "accelerator": "GPU"
  },
  "cells": [
    {
      "cell_type": "markdown",
      "metadata": {
        "id": "view-in-github",
        "colab_type": "text"
      },
      "source": [
        "<a href=\"https://colab.research.google.com/github/Val3nt-ML/Technical-Tests/blob/main/Accuracy_Prediction.ipynb\" target=\"_parent\"><img src=\"https://colab.research.google.com/assets/colab-badge.svg\" alt=\"Open In Colab\"/></a>"
      ]
    },
    {
      "cell_type": "markdown",
      "metadata": {
        "id": "X1vsB0CpLo2H"
      },
      "source": [
        "# **Airbus Accuracy Prediction**"
      ]
    },
    {
      "cell_type": "code",
      "metadata": {
        "id": "7s_z0v6S8Zm-",
        "colab": {
          "base_uri": "https://localhost:8080/",
          "height": 190
        },
        "outputId": "73ce9b74-79a6-45fc-eaf8-a9d6ade695b9"
      },
      "source": [
        "from google.colab import drive\n",
        "import sys\n",
        "drive.mount('/content/gdrive')\n",
        "!nvcc --version\n",
        "sys.path.append('/content/gdrive/My Drive/Airbus/')"
      ],
      "execution_count": null,
      "outputs": [
        {
          "output_type": "stream",
          "text": [
            "Go to this URL in a browser: https://accounts.google.com/o/oauth2/auth?client_id=947318989803-6bn6qk8qdgf4n4g3pfee6491hc0brc4i.apps.googleusercontent.com&redirect_uri=urn%3aietf%3awg%3aoauth%3a2.0%3aoob&response_type=code&scope=email%20https%3a%2f%2fwww.googleapis.com%2fauth%2fdocs.test%20https%3a%2f%2fwww.googleapis.com%2fauth%2fdrive%20https%3a%2f%2fwww.googleapis.com%2fauth%2fdrive.photos.readonly%20https%3a%2f%2fwww.googleapis.com%2fauth%2fpeopleapi.readonly\n",
            "\n",
            "Enter your authorization code:\n",
            "··········\n",
            "Mounted at /content/gdrive\n",
            "nvcc: NVIDIA (R) Cuda compiler driver\n",
            "Copyright (c) 2005-2018 NVIDIA Corporation\n",
            "Built on Sat_Aug_25_21:08:01_CDT_2018\n",
            "Cuda compilation tools, release 10.0, V10.0.130\n"
          ],
          "name": "stdout"
        }
      ]
    },
    {
      "cell_type": "code",
      "metadata": {
        "id": "6Hjqt6mk8mwT"
      },
      "source": [
        "import warnings\n",
        "warnings.filterwarnings('ignore')\n",
        "#warnings.simplefilter(action='ignore', category=FutureWarning)\n",
        "#warnings.simplefilter(action='ignore', category=DeprecationWarning)\n",
        "import pandas as pd\n",
        "pd.set_option('display.max_columns', 45)\n",
        "import numpy as np\n",
        "import seaborn as sns\n",
        "import matplotlib.pyplot as plt\n",
        "from xgboost import XGBClassifier\n",
        "from sklearn import preprocessing, metrics, svm\n",
        "from sklearn.svm import SVR\n",
        "from sklearn.preprocessing import StandardScaler, MinMaxScaler\n",
        "from sklearn.metrics import roc_curve\n",
        "from sklearn.utils import resample, shuffle\n",
        "from sklearn.model_selection import train_test_split, cross_val_score, KFold, learning_curve, ShuffleSplit\n",
        "from sklearn.linear_model import LogisticRegression, LinearRegression\n",
        "from sklearn.ensemble import RandomForestRegressor, VotingClassifier, GradientBoostingRegressor\n",
        "from sklearn.feature_selection import SelectFromModel\n",
        "from sklearn.neural_network import MLPRegressor\n",
        "from xgboost import XGBRegressor\n",
        "from sklearn.model_selection import StratifiedKFold, GridSearchCV\n"
      ],
      "execution_count": null,
      "outputs": []
    },
    {
      "cell_type": "code",
      "metadata": {
        "id": "hEiLPnU08wxs"
      },
      "source": [
        "def normalize_PN(pn):\n",
        "  return(pn[0].lower()+pn[1:])\n",
        "\n",
        "\n",
        "#Fichier Drivers Test\n",
        "df=pd.read_excel(\"/content/gdrive/My Drive/Airbus/Test samples.xlsx\", sheet_name=1)\n",
        "df.set_index('partNumber', inplace=True)\n",
        "#Références Métiers et Coûts\n",
        "df_0=pd.read_excel(\"/content/gdrive/My Drive/Airbus/Test samples.xlsx\")\n",
        "#On met le partNumber en minuscule\n",
        "df_0['partNumber']=df_0['partNumber'].apply(normalize_PN)\n",
        "df_0.set_index('partNumber', inplace=True)\n",
        "\n",
        "#df_0=pd.DataFrame(df_0['Total Cost/PN'])\n",
        "df_0=pd.DataFrame(df_0[ 'Total Cost/PN'])\n",
        "\n",
        "#Jointure des deux tables sur le partNumber (minuscule)\n",
        "df=df.join(df_0)\n",
        "\n",
        "\n",
        "#Fichier de Références\n",
        "df_references=pd.read_excel(\"/content/gdrive/My Drive/Airbus/Reference sample.xlsx\", sheet_name=1)\n",
        "df_references_0=pd.read_excel(\"/content/gdrive/My Drive/Airbus/Reference sample.xlsx\")\n",
        "df_references.set_index('partNumber', inplace=True)\n",
        "df_references_0.set_index('partNumber', inplace=True)\n",
        "\n",
        "#df_references_0=pd.DataFrame(df_references_0['Total Cost/PN'])\n",
        "df_references_0=pd.DataFrame(df_references_0['Total Cost/PN'])\n",
        "\n",
        "#Jointure des deux tables sur le partNumber (minuscule)\n",
        "df_references=df_references.join(df_references_0)\n",
        "\n",
        "\n",
        "df['IsReference']=0\n",
        "df_references['IsReference']=1\n",
        "\n",
        "\n",
        "df=pd.concat([df,df_references], sort=False)\n",
        "df.reset_index(drop=True, inplace=True)\n",
        "df['IsReference']=df['IsReference'].astype(bool)\n",
        "\n",
        "df.head()"
      ],
      "execution_count": null,
      "outputs": []
    },
    {
      "cell_type": "code",
      "metadata": {
        "id": "h1tyU1F7-5DZ",
        "colab": {
          "base_uri": "https://localhost:8080/",
          "height": 51
        },
        "outputId": "fea7d029-6442-4cfa-b2be-c6eabfb1d82a"
      },
      "source": [
        "print(df[df['IsReference']==False].shape)\n",
        "print(df[df['IsReference']==True].shape)"
      ],
      "execution_count": null,
      "outputs": [
        {
          "output_type": "stream",
          "text": [
            "(4667, 38)\n",
            "(746, 38)\n"
          ],
          "name": "stdout"
        }
      ]
    },
    {
      "cell_type": "markdown",
      "metadata": {
        "id": "er9xALxU-fCm"
      },
      "source": [
        "## **Valeurs Manquantes**"
      ]
    },
    {
      "cell_type": "code",
      "metadata": {
        "id": "CgCFuuAw-Izq",
        "colab": {
          "base_uri": "https://localhost:8080/",
          "height": 714
        },
        "outputId": "2f710b1d-88c8-4d76-819d-510e021facaf"
      },
      "source": [
        "print(\"Valeurs Manquantes de DF avant processing: \\n\")\n",
        "df.isna().sum()"
      ],
      "execution_count": null,
      "outputs": [
        {
          "output_type": "stream",
          "text": [
            "Valeurs Manquantes de DF avant processing: \n",
            "\n"
          ],
          "name": "stdout"
        },
        {
          "output_type": "execute_result",
          "data": {
            "text/plain": [
              "costingGroup                               0\n",
              "Part Category for assembly operation    4389\n",
              "Designation                                1\n",
              "Material Fly Weight [kg]                   1\n",
              "Length                                     0\n",
              "Width                                      0\n",
              "Thickness                                  1\n",
              "Projected Area Ratio                       1\n",
              "Projected Length                           1\n",
              "Projected Width                            1\n",
              "Projected Height                           1\n",
              "Bounding Box Length                        1\n",
              "Bounding Box Width                         1\n",
              "Bounding Box Height                        1\n",
              "Max Diagonal Part                          1\n",
              "Length of finished part                    1\n",
              "Width of finished part                     1\n",
              "Height of finished part                    1\n",
              "Projected Perimeter                        1\n",
              "Finished Part Surface                      1\n",
              "DPT Wet Surface Area                       1\n",
              "form                                       0\n",
              "composition                                0\n",
              "Material density                           0\n",
              "Material Cluster                           0\n",
              "Buy Weight                                 2\n",
              "Nb of bonding point [Qty]                381\n",
              "Surface protection code (DPT)              2\n",
              "Nb of holes for DPT treat                  1\n",
              "Bounding Box Volume                        1\n",
              "Finished part Volume                      16\n",
              "Material Removed Prep Milling              2\n",
              "Machining In Opposite Direction            1\n",
              "Material Removed Surface Milling           2\n",
              "Material Removed Pockets                   2\n",
              "Material Removed Final                     2\n",
              "Total Cost/PN                              8\n",
              "IsReference                                0\n",
              "dtype: int64"
            ]
          },
          "metadata": {
            "tags": []
          },
          "execution_count": 5
        }
      ]
    },
    {
      "cell_type": "markdown",
      "metadata": {
        "id": "SI5Aam1n--Km"
      },
      "source": [
        "On peut tout d'abord remarquer que la colonne Part Category for assembly operation contient 3681 valeurs manquantes, soit 69% de valeurs manquantes. On peut ainsi faire raisonnablement le choix de supprimer cette variable."
      ]
    },
    {
      "cell_type": "markdown",
      "metadata": {
        "id": "SExV53i3ZDfd"
      },
      "source": [
        "***Part Category for assembly operation Variable***"
      ]
    },
    {
      "cell_type": "code",
      "metadata": {
        "id": "nBcXm8Sl_T-4",
        "colab": {
          "base_uri": "https://localhost:8080/",
          "height": 34
        },
        "outputId": "171af137-aea7-483c-9a0c-3ecfe3c85807"
      },
      "source": [
        "df.drop(columns=['Part Category for assembly operation'], inplace=True)\n",
        "df.shape"
      ],
      "execution_count": null,
      "outputs": [
        {
          "output_type": "execute_result",
          "data": {
            "text/plain": [
              "(5413, 37)"
            ]
          },
          "metadata": {
            "tags": []
          },
          "execution_count": 6
        }
      ]
    },
    {
      "cell_type": "markdown",
      "metadata": {
        "id": "tiPHOdwDZIr6"
      },
      "source": [
        "***Nb of bonding point [Qty] Variable***"
      ]
    },
    {
      "cell_type": "code",
      "metadata": {
        "id": "Zrm5zeVdXPPl",
        "colab": {
          "base_uri": "https://localhost:8080/",
          "height": 386
        },
        "outputId": "c848f452-9f7f-4c43-be35-4915b28a9d9c"
      },
      "source": [
        "sns.catplot(x='Nb of bonding point [Qty]', kind='count', data=df)"
      ],
      "execution_count": null,
      "outputs": [
        {
          "output_type": "execute_result",
          "data": {
            "text/plain": [
              "<seaborn.axisgrid.FacetGrid at 0x7f567428e128>"
            ]
          },
          "metadata": {
            "tags": []
          },
          "execution_count": 7
        },
        {
          "output_type": "display_data",
          "data": {
            "image/png": "[encoded data removed]",
            "text/plain": [
              "<Figure size 360x360 with 1 Axes>"
            ]
          },
          "metadata": {
            "tags": []
          }
        }
      ]
    },
    {
      "cell_type": "code",
      "metadata": {
        "id": "TT9eyhKeXcsO"
      },
      "source": [
        "Bonding_variables=['Bounding Box Length','Bounding Box Width', 'Bounding Box Height', 'Nb of bonding point [Qty]', 'Bounding Box Volume' ]\n",
        "df.loc[df['Nb of bonding point [Qty]'].isna(), Bonding_variables]"
      ],
      "execution_count": null,
      "outputs": []
    },
    {
      "cell_type": "code",
      "metadata": {
        "id": "EWlqcrkFYhZ2"
      },
      "source": [
        "df['Nb of bonding point [Qty]'].fillna(value=0, inplace=True)"
      ],
      "execution_count": null,
      "outputs": []
    },
    {
      "cell_type": "markdown",
      "metadata": {
        "id": "-2KFJIDtZOqC"
      },
      "source": [
        "***Total Cost Variable***"
      ]
    },
    {
      "cell_type": "code",
      "metadata": {
        "id": "Mvj4rqP5aFhJ",
        "colab": {
          "base_uri": "https://localhost:8080/",
          "height": 34
        },
        "outputId": "597498d4-7c81-4bf2-da8c-efebdfd648e5"
      },
      "source": [
        "t=df_references[df_references['Total Cost/PN'].isna()]\n",
        "print(\"Nombre de valeurs manquantes de la variable Total Cost dans les références: \"+str(t.shape[0]))"
      ],
      "execution_count": null,
      "outputs": [
        {
          "output_type": "stream",
          "text": [
            "Nombre de valeurs manquantes de la variable Total Cost dans les références: 8\n"
          ],
          "name": "stdout"
        }
      ]
    },
    {
      "cell_type": "markdown",
      "metadata": {
        "id": "wqc3I8mFacvu"
      },
      "source": [
        "On peut remarquer que les 8 valeurs manquantes de la variable 'Total Cost' font parties de l'ensemble de références. On peut donc faire le choix de supprimer les données correspondantes."
      ]
    },
    {
      "cell_type": "code",
      "metadata": {
        "id": "-9YgJt0kaxaD"
      },
      "source": [
        "df.drop(df[df['Total Cost/PN'].isna()].index, inplace=True)"
      ],
      "execution_count": null,
      "outputs": []
    },
    {
      "cell_type": "code",
      "metadata": {
        "id": "oovfAwB6qS_O",
        "colab": {
          "base_uri": "https://localhost:8080/",
          "height": 34
        },
        "outputId": "0baf7b01-4047-462a-8e5c-7f212a58dcee"
      },
      "source": [
        "df[df['IsReference']==1].shape"
      ],
      "execution_count": null,
      "outputs": [
        {
          "output_type": "execute_result",
          "data": {
            "text/plain": [
              "(738, 37)"
            ]
          },
          "metadata": {
            "tags": []
          },
          "execution_count": 12
        }
      ]
    },
    {
      "cell_type": "markdown",
      "metadata": {
        "id": "7bBM1aM7afT9"
      },
      "source": [
        "***Other Variables***"
      ]
    },
    {
      "cell_type": "code",
      "metadata": {
        "id": "bXvBGlgZ_dUq",
        "colab": {
          "base_uri": "https://localhost:8080/",
          "height": 663
        },
        "outputId": "45985b18-8bd0-4a59-ee09-df6820f5bb05"
      },
      "source": [
        "df=pd.DataFrame(df.fillna(method='bfill', axis=1))\n",
        "df.isna().sum()"
      ],
      "execution_count": null,
      "outputs": [
        {
          "output_type": "execute_result",
          "data": {
            "text/plain": [
              "costingGroup                        0\n",
              "Designation                         0\n",
              "Material Fly Weight [kg]            0\n",
              "Length                              0\n",
              "Width                               0\n",
              "Thickness                           0\n",
              "Projected Area Ratio                0\n",
              "Projected Length                    0\n",
              "Projected Width                     0\n",
              "Projected Height                    0\n",
              "Bounding Box Length                 0\n",
              "Bounding Box Width                  0\n",
              "Bounding Box Height                 0\n",
              "Max Diagonal Part                   0\n",
              "Length of finished part             0\n",
              "Width of finished part              0\n",
              "Height of finished part             0\n",
              "Projected Perimeter                 0\n",
              "Finished Part Surface               0\n",
              "DPT Wet Surface Area                0\n",
              "form                                0\n",
              "composition                         0\n",
              "Material density                    0\n",
              "Material Cluster                    0\n",
              "Buy Weight                          0\n",
              "Nb of bonding point [Qty]           0\n",
              "Surface protection code (DPT)       0\n",
              "Nb of holes for DPT treat           0\n",
              "Bounding Box Volume                 0\n",
              "Finished part Volume                0\n",
              "Material Removed Prep Milling       0\n",
              "Machining In Opposite Direction     0\n",
              "Material Removed Surface Milling    0\n",
              "Material Removed Pockets            0\n",
              "Material Removed Final              0\n",
              "Total Cost/PN                       0\n",
              "IsReference                         0\n",
              "dtype: int64"
            ]
          },
          "metadata": {
            "tags": []
          },
          "execution_count": 13
        }
      ]
    },
    {
      "cell_type": "markdown",
      "metadata": {
        "id": "tAqG5T5GBwTv"
      },
      "source": [
        "## **Statistiques Descriptives**"
      ]
    },
    {
      "cell_type": "code",
      "metadata": {
        "id": "ZJcTsfcfCUOU"
      },
      "source": [
        "#print(df.dtypes)"
      ],
      "execution_count": null,
      "outputs": []
    },
    {
      "cell_type": "markdown",
      "metadata": {
        "id": "RYDhPT87Lv3e"
      },
      "source": [
        "On peut s'apercevoir que l'ensemble des variables sont toutes du type 'object' qui est générique. Il faut donc retyper ces variables."
      ]
    },
    {
      "cell_type": "code",
      "metadata": {
        "id": "S8lf2X41L4lu"
      },
      "source": [
        "for col in df.columns:\n",
        "  try:\n",
        "    df[col]=df[col].astype(float)\n",
        "  except:\n",
        "    print(col)\n",
        "    continue\n",
        "df.dtypes[:5]"
      ],
      "execution_count": null,
      "outputs": []
    },
    {
      "cell_type": "code",
      "metadata": {
        "id": "Dh4o3qtvmclv",
        "colab": {
          "base_uri": "https://localhost:8080/",
          "height": 34
        },
        "outputId": "eb0256c5-c1c8-4486-d02b-93248d0959ed"
      },
      "source": [
        "df.drop(df[df['Thickness']=='plate'].index, inplace=True)\n",
        "df[df['IsReference']==1].shape"
      ],
      "execution_count": null,
      "outputs": [
        {
          "output_type": "execute_result",
          "data": {
            "text/plain": [
              "(738, 37)"
            ]
          },
          "metadata": {
            "tags": []
          },
          "execution_count": 16
        }
      ]
    },
    {
      "cell_type": "markdown",
      "metadata": {
        "id": "COuvwAihnucU"
      },
      "source": [
        "On s'aperçoit que plusieures variables Numériques, telles que la vaiable 'Thickness', n'a pas été convertit en float. En étudiant de plus près cette variable on peut remarquer qu'une donnée du set a de multiples champs avec la valeur 'plate', que l'on peut considérer comme une erreur, et donc supprimer cette donnée."
      ]
    },
    {
      "cell_type": "code",
      "metadata": {
        "id": "6cn9bPXWnl1e",
        "colab": {
          "base_uri": "https://localhost:8080/",
          "height": 221
        },
        "outputId": "4ca6704f-df23-4ed3-b482-8bf125879c1a"
      },
      "source": [
        "for col in df.columns:\n",
        "  try:\n",
        "    df[col]=df[col].astype(float)\n",
        "  except:\n",
        "    print(col)\n",
        "    continue\n",
        "df.dtypes[:5]"
      ],
      "execution_count": null,
      "outputs": [
        {
          "output_type": "stream",
          "text": [
            "costingGroup\n",
            "Designation\n",
            "form\n",
            "composition\n",
            "Material Cluster\n",
            "Surface protection code (DPT)\n"
          ],
          "name": "stdout"
        },
        {
          "output_type": "execute_result",
          "data": {
            "text/plain": [
              "costingGroup                 object\n",
              "Designation                  object\n",
              "Material Fly Weight [kg]    float64\n",
              "Length                      float64\n",
              "Width                       float64\n",
              "dtype: object"
            ]
          },
          "metadata": {
            "tags": []
          },
          "execution_count": 17
        }
      ]
    },
    {
      "cell_type": "markdown",
      "metadata": {
        "id": "TUNaYQuyZJnb"
      },
      "source": [
        "### **Variables Numériques**"
      ]
    },
    {
      "cell_type": "code",
      "metadata": {
        "id": "mL3xe5oUBUTn"
      },
      "source": [
        "df.describe()"
      ],
      "execution_count": null,
      "outputs": []
    },
    {
      "cell_type": "markdown",
      "metadata": {
        "id": "9ACc_V2tQqNT"
      },
      "source": [
        "Après une analyse rapide, il ne semble pas y avoir de valeurs aberrantes au sein des variables numériques."
      ]
    },
    {
      "cell_type": "code",
      "metadata": {
        "id": "X448Hp2_ZNte"
      },
      "source": [
        "corr_matrix=df.corr()\n",
        "# Generate a mask for the upper triangle\n",
        "mask = np.zeros_like(corr_matrix, dtype=np.bool)\n",
        "mask[np.triu_indices_from(mask)] = True\n",
        "\n",
        "f, ax = plt.subplots(figsize=(20, 20)) \n",
        "heatmap = sns.heatmap(corr_matrix, \n",
        "                      mask = mask,\n",
        "                      square = True,\n",
        "                      linewidths = .5,\n",
        "                      cmap = 'coolwarm',\n",
        "                      cbar_kws = {'shrink': .4, \n",
        "                                'ticks' : [-1, -.5, 0, 0.5, 1]},\n",
        "                      vmin = -1, \n",
        "                      vmax = 1,\n",
        "                      annot = True,\n",
        "                      annot_kws = {'size': 12})\n",
        "#add the column names as labels\n",
        "ax.set_yticklabels(corr_matrix.columns, rotation = 0)\n",
        "ax.set_xticklabels(corr_matrix.columns)\n",
        "sns.set_style({'xtick.bottom': True}, {'ytick.left': True})"
      ],
      "execution_count": null,
      "outputs": []
    },
    {
      "cell_type": "markdown",
      "metadata": {
        "id": "JSLQEp0faJgv"
      },
      "source": [
        "Grâce à cette matrice de corrélation, on peut aisément s'apercevoir que de nombreuses variables sont fortement corrélées, telles que 'Length' et les variables 'Bounding Box Length', 'Projected Length', 'Max Diagonal Part', 'Length of finished part', 'Projected Perimeter' et 'Material Removed Prep Milling'. Cependant, j'ai fait le choix dans un premier temps de conserver un maximum de variables, et au vu des performances obtenues (score R2 très proche de 1 sans underfitting ou overfitting), j'ai décidé de ne pas en supprimer à cette étape."
      ]
    },
    {
      "cell_type": "code",
      "metadata": {
        "id": "BPNdA9vqoE6Y",
        "colab": {
          "base_uri": "https://localhost:8080/",
          "height": 34
        },
        "outputId": "4a2e52b0-9841-4f18-f158-6c17974a1f7d"
      },
      "source": [
        "df[df['IsReference']==1].shape"
      ],
      "execution_count": null,
      "outputs": [
        {
          "output_type": "execute_result",
          "data": {
            "text/plain": [
              "(738, 37)"
            ]
          },
          "metadata": {
            "tags": []
          },
          "execution_count": 20
        }
      ]
    },
    {
      "cell_type": "markdown",
      "metadata": {
        "id": "GVAkIVnulUTQ"
      },
      "source": [
        "## **Etude des outliers**"
      ]
    },
    {
      "cell_type": "code",
      "metadata": {
        "id": "v-K0IMf9lYLH",
        "colab": {
          "base_uri": "https://localhost:8080/",
          "height": 954
        },
        "outputId": "ef8e0900-2a9c-4525-c7ea-814d95e688b5"
      },
      "source": [
        "numerical=[]\n",
        "for col in df.columns:\n",
        "  if(df[col].dtypes== 'float64'):\n",
        "    numerical.append(col)\n",
        "\n",
        "df[numerical].hist(bins=30, figsize=(30, 16), layout=(6, 6));"
      ],
      "execution_count": null,
      "outputs": [
        {
          "output_type": "display_data",
          "data": {
            "image/png": "[encoded data removed]",
            "text/plain": [
              "<Figure size 2160x1152 with 36 Axes>"
            ]
          },
          "metadata": {
            "tags": []
          }
        }
      ]
    },
    {
      "cell_type": "code",
      "metadata": {
        "id": "URMZ6vxaBu5O",
        "colab": {
          "base_uri": "https://localhost:8080/",
          "height": 34
        },
        "outputId": "e281e90a-919d-4b6e-e299-794cf9cb7c31"
      },
      "source": [
        "df.shape"
      ],
      "execution_count": null,
      "outputs": [
        {
          "output_type": "execute_result",
          "data": {
            "text/plain": [
              "(5404, 37)"
            ]
          },
          "metadata": {
            "tags": []
          },
          "execution_count": 22
        }
      ]
    },
    {
      "cell_type": "markdown",
      "metadata": {
        "id": "8-B61add6h2Q"
      },
      "source": [
        "# **Transformation de Variables (Logarithmique)**"
      ]
    },
    {
      "cell_type": "markdown",
      "metadata": {
        "id": "0-OLAnG-6lw-"
      },
      "source": [
        "Comme de nombreuses variables numériques ne suivent pas réellement une distribution Gaussienne, j'ai décidé de transformer ces variables à partir de la fonction Log afin que leur distribution se rapprochent d'une Gaussienne."
      ]
    },
    {
      "cell_type": "code",
      "metadata": {
        "id": "YC7GsvRd56VP",
        "colab": {
          "base_uri": "https://localhost:8080/",
          "height": 607
        },
        "outputId": "0cfb8a1b-7423-48ba-f35e-a2f170cc96d5"
      },
      "source": [
        "log_variables=['Projected Perimeter','Projected Length', 'Bounding Box Width', \n",
        "               'Bounding Box Length', 'DPT Wet Surface Area', 'Finished Part Surface','Length', \n",
        "               'Length of finished part','Max Diagonal Part', 'Projected Width', 'Width', 'Width of finished part']\n",
        "df[log_variables].hist(bins=30, figsize=(15, 10), layout=(3,4))\n",
        "log_variables_names=[]\n",
        "for col in df.columns:\n",
        "  if(col in log_variables):\n",
        "    df[col+' Log']= np.log(1+df[col])\n",
        "    log_variables_names.append(col+' Log')\n",
        "    df.drop(columns=col, inplace=True)"
      ],
      "execution_count": null,
      "outputs": [
        {
          "output_type": "display_data",
          "data": {
            "image/png": "[encoded data removed]",
            "text/plain": [
              "<Figure size 1080x720 with 12 Axes>"
            ]
          },
          "metadata": {
            "tags": []
          }
        }
      ]
    },
    {
      "cell_type": "code",
      "metadata": {
        "id": "dEfhAm3gBw5F",
        "colab": {
          "base_uri": "https://localhost:8080/",
          "height": 34
        },
        "outputId": "1f6d683e-6d54-4863-cdc3-ccd7299969a6"
      },
      "source": [
        "df.shape"
      ],
      "execution_count": null,
      "outputs": [
        {
          "output_type": "execute_result",
          "data": {
            "text/plain": [
              "(5404, 37)"
            ]
          },
          "metadata": {
            "tags": []
          },
          "execution_count": 24
        }
      ]
    },
    {
      "cell_type": "code",
      "metadata": {
        "id": "lYSkjlPs8ZeV",
        "colab": {
          "base_uri": "https://localhost:8080/",
          "height": 828
        },
        "outputId": "1e712e66-50f0-4888-ccc4-3bb17e111f1c"
      },
      "source": [
        "df[log_variables_names].hist(bins=30,  figsize=(15, 10), layout=(3,4))"
      ],
      "execution_count": null,
      "outputs": [
        {
          "output_type": "execute_result",
          "data": {
            "text/plain": [
              "array([[<matplotlib.axes._subplots.AxesSubplot object at 0x7f564f7d9be0>,\n",
              "        <matplotlib.axes._subplots.AxesSubplot object at 0x7f5656ad7d30>,\n",
              "        <matplotlib.axes._subplots.AxesSubplot object at 0x7f5656ae1c50>,\n",
              "        <matplotlib.axes._subplots.AxesSubplot object at 0x7f5656659198>],\n",
              "       [<matplotlib.axes._subplots.AxesSubplot object at 0x7f564f9b1f98>,\n",
              "        <matplotlib.axes._subplots.AxesSubplot object at 0x7f564fdd8588>,\n",
              "        <matplotlib.axes._subplots.AxesSubplot object at 0x7f564fa3ab38>,\n",
              "        <matplotlib.axes._subplots.AxesSubplot object at 0x7f564fe5a160>],\n",
              "       [<matplotlib.axes._subplots.AxesSubplot object at 0x7f564fe5a198>,\n",
              "        <matplotlib.axes._subplots.AxesSubplot object at 0x7f564f9c4c88>,\n",
              "        <matplotlib.axes._subplots.AxesSubplot object at 0x7f564fe83278>,\n",
              "        <matplotlib.axes._subplots.AxesSubplot object at 0x7f5650156828>]],\n",
              "      dtype=object)"
            ]
          },
          "metadata": {
            "tags": []
          },
          "execution_count": 25
        },
        {
          "output_type": "display_data",
          "data": {
            "image/png": "[encoded data removed]",
            "text/plain": [
              "<Figure size 1080x720 with 12 Axes>"
            ]
          },
          "metadata": {
            "tags": []
          }
        }
      ]
    },
    {
      "cell_type": "markdown",
      "metadata": {
        "id": "XiTQ9ALPuzKc"
      },
      "source": [
        "**Standard Deviation Method**\n",
        "\n"
      ]
    },
    {
      "cell_type": "code",
      "metadata": {
        "id": "0TRiH-1ZvAB4"
      },
      "source": [
        "#Gaussian_variables=['Bounding Box Height', 'Bounding Box Width', 'Height of finished part','Length', 'Length of finished part', 'Projected Height', 'Projected Perimeter', 'Projected Width', 'Projected Length', 'Width', 'Thickness']\n",
        "\n",
        "Categorical_variables=[]\n",
        "for col in df.columns:\n",
        "  if(df[col].dtypes == 'object'):\n",
        "    Categorical_variables.append(col)\n",
        "Categorical_variables.append('IsReference')\n",
        "\n",
        "No_Gaussian_variables=['Bounding Box Volume','Buy Weight', 'Finished part Volume',\n",
        "                       'Machining In Opposite Direction', 'Material Fly Weight [kg]', 'Material Removed Final',\n",
        "                       'Material Removed Pockets', 'Material Removed Prep Milling', 'Material Removed Surface Milling',\n",
        "                       'Material density', 'Nb of bonding point [Qty]','Nb of holes for DPT treat', 'Projected Area Ratio',\n",
        "                       'Total Cost/PN']\n",
        "Gaussian_variables=[]\n",
        "for col in df.columns:\n",
        "  if((col in No_Gaussian_variables) == False and (col in Categorical_variables) == False):\n",
        "    Gaussian_variables.append(col)\n",
        "print('Number of Gaussian Variables: '+str(len(Gaussian_variables)))\n",
        "print('Number of other Variables: '+str(len(No_Gaussian_variables)))\n",
        "print('Number of Categorical Variables: '+str(len(Categorical_variables)))\n",
        "\n",
        "\n",
        "df_G=pd.DataFrame({'Mean': df.loc[df[df['IsReference']==False].index ,Gaussian_variables].mean().values, \n",
        "                   'Standard Deviation': df.loc[df[df['IsReference']==False].index ,Gaussian_variables].std().values\n",
        "                   },\n",
        "                  index=Gaussian_variables\n",
        "                 )\n",
        "df_G.index.name='Variable'\n",
        "\n",
        "df_G['lower']=round(df_G['Mean']-3*df_G['Standard Deviation'],2)\n",
        "df_G['upper']=round(df_G['Mean']+3*df_G['Standard Deviation'],2)\n",
        "\n",
        "\n",
        "\n",
        "df_G.head(5)"
      ],
      "execution_count": null,
      "outputs": []
    },
    {
      "cell_type": "code",
      "metadata": {
        "id": "qmxoHCgnzOZK"
      },
      "source": [
        "outliers=[]\n",
        "for i in range(len(Gaussian_variables)):\n",
        "  \n",
        "  outliers=df[((df[Gaussian_variables[i]]<df_G.iloc[i,2]) | (df[Gaussian_variables[i]]>df_G.iloc[i,3])) & (df['IsReference']==False)]\n",
        "  #On filtre seulement les échantillons de l'ensemble Test\n",
        "  df.drop(outliers.index, inplace=True) \n",
        "  "
      ],
      "execution_count": null,
      "outputs": []
    },
    {
      "cell_type": "code",
      "metadata": {
        "id": "9nTNInWep9mD",
        "colab": {
          "base_uri": "https://localhost:8080/",
          "height": 34
        },
        "outputId": "560635a8-06cc-44a7-ca2b-46753e7e8593"
      },
      "source": [
        "print(df[df['IsReference']==True].shape)"
      ],
      "execution_count": null,
      "outputs": [
        {
          "output_type": "stream",
          "text": [
            "(738, 37)\n"
          ],
          "name": "stdout"
        }
      ]
    },
    {
      "cell_type": "code",
      "metadata": {
        "id": "cN9jw9NJMnrS",
        "colab": {
          "base_uri": "https://localhost:8080/",
          "height": 896
        },
        "outputId": "1786ac49-c016-40a8-df1f-ee7e6d7df39f"
      },
      "source": [
        "df[No_Gaussian_variables].hist(bins=30, figsize=(15, 10))"
      ],
      "execution_count": null,
      "outputs": [
        {
          "output_type": "execute_result",
          "data": {
            "text/plain": [
              "array([[<matplotlib.axes._subplots.AxesSubplot object at 0x7f564f6333c8>,\n",
              "        <matplotlib.axes._subplots.AxesSubplot object at 0x7f565350c160>,\n",
              "        <matplotlib.axes._subplots.AxesSubplot object at 0x7f564f546c18>,\n",
              "        <matplotlib.axes._subplots.AxesSubplot object at 0x7f564f7d92b0>],\n",
              "       [<matplotlib.axes._subplots.AxesSubplot object at 0x7f564fc57908>,\n",
              "        <matplotlib.axes._subplots.AxesSubplot object at 0x7f565345f908>,\n",
              "        <matplotlib.axes._subplots.AxesSubplot object at 0x7f564f5f4c50>,\n",
              "        <matplotlib.axes._subplots.AxesSubplot object at 0x7f564f97beb8>],\n",
              "       [<matplotlib.axes._subplots.AxesSubplot object at 0x7f564f97bd68>,\n",
              "        <matplotlib.axes._subplots.AxesSubplot object at 0x7f564fa41940>,\n",
              "        <matplotlib.axes._subplots.AxesSubplot object at 0x7f56560e3ef0>,\n",
              "        <matplotlib.axes._subplots.AxesSubplot object at 0x7f564f9524e0>],\n",
              "       [<matplotlib.axes._subplots.AxesSubplot object at 0x7f564fef8a90>,\n",
              "        <matplotlib.axes._subplots.AxesSubplot object at 0x7f564f8b2080>,\n",
              "        <matplotlib.axes._subplots.AxesSubplot object at 0x7f564f5d4630>,\n",
              "        <matplotlib.axes._subplots.AxesSubplot object at 0x7f564f92bbe0>]],\n",
              "      dtype=object)"
            ]
          },
          "metadata": {
            "tags": []
          },
          "execution_count": 29
        },
        {
          "output_type": "display_data",
          "data": {
            "image/png": "[encoded data removed]",
            "text/plain": [
              "<Figure size 1080x720 with 16 Axes>"
            ]
          },
          "metadata": {
            "tags": []
          }
        }
      ]
    },
    {
      "cell_type": "markdown",
      "metadata": {
        "id": "tK-fdj1Jukg0"
      },
      "source": [
        "**Interquartile Range Method (IQR)**"
      ]
    },
    {
      "cell_type": "markdown",
      "metadata": {
        "id": "Vk3q2DF7T6yh"
      },
      "source": [
        "Après avoir testé cette méthode, afin de supprimer les outliers sur les variables numériques non gausiennes, j'ai observé que plus de 500 échantillons étaient supprimés de l'ensemble 'Test', ceci engendrant des performances moins bonnes qu'en les laissant.\n"
      ]
    },
    {
      "cell_type": "code",
      "metadata": {
        "id": "tJgT7Xjmuhgw",
        "colab": {
          "base_uri": "https://localhost:8080/",
          "height": 54
        },
        "outputId": "958c6d5f-4467-4c1b-8e29-b92eb507f8ae"
      },
      "source": [
        "\"\"\"\n",
        "df_iqr=pd.DataFrame({'Q25': df.loc[df[df['IsReference']==0].index  , No_Gaussian_variables].quantile(0.25).values, \n",
        "                   'Q75': df.loc[df[df['IsReference']==0].index  , No_Gaussian_variables].quantile(0.75).values},\n",
        "                    index=No_Gaussian_variables)\n",
        "df_iqr.index.name='Variable'\n",
        "\n",
        "df_iqr[\"IQR\"]=df_iqr['Q75']-df_iqr['Q25']\n",
        "df_iqr['lower']=df_iqr['Q25']-3*df_iqr['IQR']\n",
        "df_iqr['upper']=df_iqr['Q75']+3*df_iqr['IQR']\n",
        "\n",
        "df_iqr.head(df_iqr.shape[0])\n",
        "\"\"\""
      ],
      "execution_count": null,
      "outputs": [
        {
          "output_type": "execute_result",
          "data": {
            "text/plain": [
              "'\\ndf_iqr=pd.DataFrame({\\'Q25\\': df.loc[df[df[\\'IsReference\\']==0].index  , No_Gaussian_variables].quantile(0.25).values, \\n                   \\'Q75\\': df.loc[df[df[\\'IsReference\\']==0].index  , No_Gaussian_variables].quantile(0.75).values},\\n                    index=No_Gaussian_variables)\\ndf_iqr.index.name=\\'Variable\\'\\n\\ndf_iqr[\"IQR\"]=df_iqr[\\'Q75\\']-df_iqr[\\'Q25\\']\\ndf_iqr[\\'lower\\']=df_iqr[\\'Q25\\']-3*df_iqr[\\'IQR\\']\\ndf_iqr[\\'upper\\']=df_iqr[\\'Q75\\']+3*df_iqr[\\'IQR\\']\\n\\ndf_iqr.head(df_iqr.shape[0])\\n'"
            ]
          },
          "metadata": {
            "tags": []
          },
          "execution_count": 30
        }
      ]
    },
    {
      "cell_type": "code",
      "metadata": {
        "id": "DgY5CFTg5MjC",
        "colab": {
          "base_uri": "https://localhost:8080/",
          "height": 54
        },
        "outputId": "c1787c40-4353-4812-a976-f1f6f1b6c9bd"
      },
      "source": [
        "\"\"\"\n",
        "df_3=df.copy()\n",
        "\n",
        "\n",
        "\n",
        "\n",
        "\n",
        "for variable in No_Gaussian_variables:\n",
        "\n",
        "  if((variable in df.columns) == False):\n",
        "    print(variable)\n",
        "  else:\n",
        "\n",
        "    outliers_iqr=df[((df[variable]<df_iqr.loc[variable,'lower']) | (df[variable]>df_iqr.loc[variable,'upper'])) & (df['IsReference']==False)].index \n",
        "    df.drop(outliers_iqr, inplace=True)\n",
        "\"\"\"\n"
      ],
      "execution_count": null,
      "outputs": [
        {
          "output_type": "execute_result",
          "data": {
            "text/plain": [
              "\"\\ndf_3=df.copy()\\n\\n\\n\\n\\n\\nfor variable in No_Gaussian_variables:\\n\\n  if((variable in df.columns) == False):\\n    print(variable)\\n  else:\\n\\n    outliers_iqr=df[((df[variable]<df_iqr.loc[variable,'lower']) | (df[variable]>df_iqr.loc[variable,'upper'])) & (df['IsReference']==False)].index \\n    df.drop(outliers_iqr, inplace=True)\\n\""
            ]
          },
          "metadata": {
            "tags": []
          },
          "execution_count": 31
        }
      ]
    },
    {
      "cell_type": "markdown",
      "metadata": {
        "id": "NNeiE0jHZCIE"
      },
      "source": [
        "### **Variables Catégorielles**"
      ]
    },
    {
      "cell_type": "code",
      "metadata": {
        "id": "UzbayUIUou2Z",
        "colab": {
          "base_uri": "https://localhost:8080/",
          "height": 606
        },
        "outputId": "597bfed4-cf10-475f-d149-9189e85004f1"
      },
      "source": [
        "categorical=[]\n",
        "\n",
        "for col in df.columns:\n",
        "  if(df[col].dtypes != 'float64' and col != 'Surface protection code (DPT)' and col != 'Designation'):\n",
        "    categorical.append(col)\n",
        "\n",
        "fig, ax = plt.subplots(2, 2, figsize=(12, 10))\n",
        "i=0\n",
        "for variable in Categorical_variables:\n",
        "  if(variable!='Designation' and variable!='Surface protection code (DPT)' and variable!='IsReference'):\n",
        "    subplot=ax.flatten()[i]\n",
        "    sns.countplot(df[variable], ax=subplot)\n",
        "    i+=1\n"
      ],
      "execution_count": null,
      "outputs": [
        {
          "output_type": "display_data",
          "data": {
            "image/png": "[encoded data removed]",
            "text/plain": [
              "<Figure size 864x720 with 4 Axes>"
            ]
          },
          "metadata": {
            "tags": []
          }
        }
      ]
    },
    {
      "cell_type": "markdown",
      "metadata": {
        "id": "OtsYoXq5Siu4"
      },
      "source": [
        "On peut voir que les variables 'form' et 'Material Cluster' ne comportent qu'une seule valeur, respectivement 'plate' et 'SOFT Metal'. Ainsi, elles n'apportent pas d'information pour notre modèle, on peut donc les supprimer."
      ]
    },
    {
      "cell_type": "code",
      "metadata": {
        "id": "pFW6Cx-Obsxt",
        "colab": {
          "base_uri": "https://localhost:8080/",
          "height": 34
        },
        "outputId": "28e01279-f881-4850-82bd-c4814618c785"
      },
      "source": [
        "df[df['costingGroup']=='MACH_SB_AL'].count()[0]"
      ],
      "execution_count": null,
      "outputs": [
        {
          "output_type": "execute_result",
          "data": {
            "text/plain": [
              "642"
            ]
          },
          "metadata": {
            "tags": []
          },
          "execution_count": 33
        }
      ]
    },
    {
      "cell_type": "code",
      "metadata": {
        "id": "37-F-q-mzUM-",
        "colab": {
          "base_uri": "https://localhost:8080/",
          "height": 34
        },
        "outputId": "70bd9b6a-13ec-48f1-c044-90e68f24f719"
      },
      "source": [
        "df[df['composition']=='aluminium lith'].count()[0]"
      ],
      "execution_count": null,
      "outputs": [
        {
          "output_type": "execute_result",
          "data": {
            "text/plain": [
              "97"
            ]
          },
          "metadata": {
            "tags": []
          },
          "execution_count": 34
        }
      ]
    },
    {
      "cell_type": "code",
      "metadata": {
        "id": "wnrP_ibtRSGs",
        "colab": {
          "base_uri": "https://localhost:8080/",
          "height": 34
        },
        "outputId": "a60a0571-ca5e-4908-8182-72f96620c506"
      },
      "source": [
        "df.drop(columns=['Material Cluster', 'form'], inplace=True)\n",
        "df.shape"
      ],
      "execution_count": null,
      "outputs": [
        {
          "output_type": "execute_result",
          "data": {
            "text/plain": [
              "(5327, 35)"
            ]
          },
          "metadata": {
            "tags": []
          },
          "execution_count": 35
        }
      ]
    },
    {
      "cell_type": "code",
      "metadata": {
        "id": "2udtPpKVS4DY",
        "colab": {
          "base_uri": "https://localhost:8080/",
          "height": 51
        },
        "outputId": "0e4d45db-a7b1-409e-a817-cbf8f40702ba"
      },
      "source": [
        "print(\"Number of values for variable Designation: \"+str(len(df['Designation'].unique())))\n",
        "print(\"Number of values for variable Surface protection code (DPT): \"+str(len(df['Surface protection code (DPT)'].unique())))"
      ],
      "execution_count": null,
      "outputs": [
        {
          "output_type": "stream",
          "text": [
            "Number of values for variable Designation: 1278\n",
            "Number of values for variable Surface protection code (DPT): 44\n"
          ],
          "name": "stdout"
        }
      ]
    },
    {
      "cell_type": "markdown",
      "metadata": {
        "id": "YllMcer6WN62"
      },
      "source": [
        "**Etude de la variable Designation**"
      ]
    },
    {
      "cell_type": "code",
      "metadata": {
        "id": "68wXP6WLVco4"
      },
      "source": [
        "df.Designation.value_counts()[:7]"
      ],
      "execution_count": null,
      "outputs": []
    },
    {
      "cell_type": "markdown",
      "metadata": {
        "id": "TLsPofkYXrlU"
      },
      "source": [
        "J'ai ici fait le choix de ne garder que les 3 premières valeurs majoritaires et de créer une valeur 'OTHER' pour le reste."
      ]
    },
    {
      "cell_type": "code",
      "metadata": {
        "id": "po5lFlMNTpss",
        "colab": {
          "base_uri": "https://localhost:8080/",
          "height": 530
        },
        "outputId": "7f00f148-7cd8-4385-e7da-5700fdb590f8"
      },
      "source": [
        "def handle_designation(des):\n",
        "  if(des==\"FITTING\" or des==\"BRACKET\" or des=='ROD FITTING'):\n",
        "    return(des)\n",
        "  else:\n",
        "    return('OTHER')\n",
        "\n",
        "\n",
        "df['Designation']=df['Designation'].apply(handle_designation)\n",
        "sns.catplot(x='Designation', kind='count', data=df, height=7)"
      ],
      "execution_count": null,
      "outputs": [
        {
          "output_type": "execute_result",
          "data": {
            "text/plain": [
              "<seaborn.axisgrid.FacetGrid at 0x7f565013a748>"
            ]
          },
          "metadata": {
            "tags": []
          },
          "execution_count": 38
        },
        {
          "output_type": "display_data",
          "data": {
            "image/png": "[encoded data removed]",
            "text/plain": [
              "<Figure size 504x504 with 1 Axes>"
            ]
          },
          "metadata": {
            "tags": []
          }
        }
      ]
    },
    {
      "cell_type": "markdown",
      "metadata": {
        "id": "kRamsxGmksn1"
      },
      "source": [
        "**Etude de la variable Surface protection code (DPT)**"
      ]
    },
    {
      "cell_type": "code",
      "metadata": {
        "id": "GPlncsvqkEXq",
        "colab": {
          "base_uri": "https://localhost:8080/",
          "height": 136
        },
        "outputId": "0de03b8f-b17b-4804-cc00-7b85ccb40da5"
      },
      "source": [
        "df['Surface protection code (DPT)'].value_counts()[:6]"
      ],
      "execution_count": null,
      "outputs": [
        {
          "output_type": "execute_result",
          "data": {
            "text/plain": [
              "AA023          4505\n",
              "451             290\n",
              "AA021           148\n",
              "AA002+AA023      95\n",
              "AA001+AA023      95\n",
              "450              33\n",
              "Name: Surface protection code (DPT), dtype: int64"
            ]
          },
          "metadata": {
            "tags": []
          },
          "execution_count": 39
        }
      ]
    },
    {
      "cell_type": "markdown",
      "metadata": {
        "id": "8jZ6-kB3k8EP"
      },
      "source": [
        "J'ai ici fait le choix de ne garder que seulement la première valeur qui est largement majoritaire et de créer une valeur 'OTHER' pour le reste."
      ]
    },
    {
      "cell_type": "code",
      "metadata": {
        "id": "sN_V4F74lDAl",
        "colab": {
          "base_uri": "https://localhost:8080/",
          "height": 242
        },
        "outputId": "ced65d64-0c2b-4d16-f996-33b4cfa7b234"
      },
      "source": [
        "def handle_DPT(dpt):\n",
        "  if(dpt==\"AA023\"):\n",
        "    return(dpt)\n",
        "  else:\n",
        "    return('OTHER')\n",
        "\n",
        "\n",
        "df['Surface protection code (DPT)']=df['Surface protection code (DPT)'].apply(handle_DPT)\n",
        "sns.catplot(x='Surface protection code (DPT)', kind='count', data=df, height=3)"
      ],
      "execution_count": null,
      "outputs": [
        {
          "output_type": "execute_result",
          "data": {
            "text/plain": [
              "<seaborn.axisgrid.FacetGrid at 0x7f564fbaac50>"
            ]
          },
          "metadata": {
            "tags": []
          },
          "execution_count": 40
        },
        {
          "output_type": "display_data",
          "data": {
            "image/png": "[encoded data removed]",
            "text/plain": [
              "<Figure size 216x216 with 1 Axes>"
            ]
          },
          "metadata": {
            "tags": []
          }
        }
      ]
    },
    {
      "cell_type": "code",
      "metadata": {
        "id": "rQsWNx8LXda2"
      },
      "source": [
        "#Transform Categorical Variables to Ordinal Variables\n",
        "def deal_categorical_variables():\n",
        "\n",
        "  global df\n",
        "  \n",
        "  #Variable 'costingGroup'\n",
        "  costingGroup_dummies = pd.get_dummies(df['costingGroup'], prefix='costingGroup')\n",
        "  df = pd.concat([df, costingGroup_dummies], axis=1)\n",
        "  df.drop('costingGroup', axis=1, inplace=True)\n",
        "  \n",
        "  #Variable 'composition'\n",
        "  composition_dummies = pd.get_dummies(df['composition'], prefix='composition')\n",
        "  df = pd.concat([df, composition_dummies], axis=1)\n",
        "  df.drop('composition', axis=1, inplace=True)\n",
        "  \n",
        "  #Variable 'Designation'\n",
        "  Designation_dummies = pd.get_dummies(df['Designation'], prefix='Designation')\n",
        "  df = pd.concat([df, Designation_dummies], axis=1)\n",
        "  df.drop('Designation', axis=1, inplace=True)\n",
        "\n",
        "  #Variable 'Surface protection code (DPT)'\n",
        "  DPT_dummies = pd.get_dummies(df['Surface protection code (DPT)'], prefix='Surface protection code (DPT)')\n",
        "  df = pd.concat([df, DPT_dummies], axis=1)\n",
        "  df.drop('Surface protection code (DPT)', axis=1, inplace=True)\n",
        "\n",
        "  return df\n",
        "\n",
        "df=deal_categorical_variables()\n",
        "df.head(5)"
      ],
      "execution_count": null,
      "outputs": []
    },
    {
      "cell_type": "code",
      "metadata": {
        "id": "HY67gq2IpuBA",
        "colab": {
          "base_uri": "https://localhost:8080/",
          "height": 34
        },
        "outputId": "5522285f-ea4d-41c4-ccf1-ffdb5d1a934c"
      },
      "source": [
        "df.shape"
      ],
      "execution_count": null,
      "outputs": [
        {
          "output_type": "execute_result",
          "data": {
            "text/plain": [
              "(5327, 41)"
            ]
          },
          "metadata": {
            "tags": []
          },
          "execution_count": 42
        }
      ]
    },
    {
      "cell_type": "markdown",
      "metadata": {
        "id": "4FTS9nIAiX3X"
      },
      "source": [
        "### **Normalisation des Variables**"
      ]
    },
    {
      "cell_type": "code",
      "metadata": {
        "id": "xzLy4WBOiW-Y",
        "colab": {
          "base_uri": "https://localhost:8080/",
          "height": 51
        },
        "outputId": "ac1ed6c7-057b-47f2-d191-0233b27e18d3"
      },
      "source": [
        "#Mélange des données\n",
        "df=df.sample(frac=1)\n",
        "\n",
        "#On sépare l'ensemble de Références, utilisé ici pour le test lors de la Méthode n°1.\n",
        "df_train=df[df['IsReference']==False]\n",
        "df_test=df[df['IsReference']==True]\n",
        "\n",
        "scaler = StandardScaler()\n",
        "X_train=scaler.fit_transform(df_train.drop(columns=['Total Cost/PN']))\n",
        "#y=scaler.fit_transform(np.asarray(df['Total Cost']).reshape(-1,1))\n",
        "y_train=df_train['Total Cost/PN']\n",
        "print(\"X Shape: \"+str(X_train.shape))\n",
        "print(\"y Shape: \"+str(y_train.shape))\n",
        "#y_train.describe()\n"
      ],
      "execution_count": null,
      "outputs": [
        {
          "output_type": "stream",
          "text": [
            "X Shape: (4589, 40)\n",
            "y Shape: (4589,)\n"
          ],
          "name": "stdout"
        }
      ]
    },
    {
      "cell_type": "code",
      "metadata": {
        "id": "a5Wvbo5WgG-U",
        "colab": {
          "base_uri": "https://localhost:8080/",
          "height": 51
        },
        "outputId": "8620ab26-c38b-4a34-cadb-4274ec9e21eb"
      },
      "source": [
        "X_test=scaler.fit_transform(df_test.drop(columns=['Total Cost/PN']))\n",
        "y_test=df_test['Total Cost/PN']\n",
        "print(\"X Test Shape: \"+str(X_test.shape))\n",
        "print(\"y Test Shape: \"+str(y_test.shape))"
      ],
      "execution_count": null,
      "outputs": [
        {
          "output_type": "stream",
          "text": [
            "X Test Shape: (738, 40)\n",
            "y Test Shape: (738,)\n"
          ],
          "name": "stdout"
        }
      ]
    },
    {
      "cell_type": "markdown",
      "metadata": {
        "id": "_wNJAaf8p15N"
      },
      "source": [
        "## **Modèles de Machine Learning**"
      ]
    },
    {
      "cell_type": "code",
      "metadata": {
        "id": "Oiu6FLq7p1Zw"
      },
      "source": [
        "def compute_score(clf, X=X_train, y=y_train):\n",
        "    mse_xval = cross_val_score(clf, X, y, cv = 5, scoring='neg_mean_squared_error')\n",
        "    mae_xval = cross_val_score(clf, X, y, cv = 5, scoring='neg_mean_absolute_error')\n",
        "    r2_xval = cross_val_score(clf, X, y, cv = 5, scoring='r2')\n",
        "\n",
        "    results=[-np.mean(mae_xval),\n",
        "             np.sqrt(-np.mean(mse_xval)),\n",
        "             np.mean(r2_xval)]\n",
        "    print('Mean Absolute Error: %.2f'% results[0]) \n",
        "    print('Root Mean Squared Error: %.2f'% results[1])\n",
        "    print('R2 score: %.2f' % results[2])\n",
        "    return results"
      ],
      "execution_count": null,
      "outputs": []
    },
    {
      "cell_type": "code",
      "metadata": {
        "id": "fGaMRv1kFKvq"
      },
      "source": [
        "def plot_curves(estimator, X=X_train, y=y_train, cv=5,scoring='neg_mean_absolute_error' ):\n",
        "\n",
        "  train_sizes, train_scores, valid_scores=learning_curve(estimator, X=X_train, y=y_train, cv=5, scoring=scoring)\n",
        "  train_scores_std = np.std(train_scores, axis=1)\n",
        "  train_scores=np.mean(-train_scores, axis=1)\n",
        "  valid_scores_std = np.std(valid_scores, axis=1)\n",
        "  valid_scores=np.mean(-valid_scores, axis=1)\n",
        "  \n",
        "\n",
        "  plt.figure()\n",
        "  plt.grid()\n",
        "  plt.plot(train_sizes, train_scores,'o-', color='r', label='Training Score')\n",
        "  plt.fill_between(train_sizes, train_scores - train_scores_std,train_scores + train_scores_std, alpha=0.1,color=\"r\")\n",
        "  plt.plot(train_sizes, valid_scores,'o-', color='g', label='Cross-Validation Score')\n",
        "  plt.fill_between(train_sizes, valid_scores - valid_scores_std,valid_scores + valid_scores_std, alpha=0.1,color=\"g\")\n",
        "\n",
        "\n",
        "  plt.title(\"Learning Curve\")\n",
        "  plt.xlabel(\"Training Set Size\" )\n",
        "  plt.ylabel(\"Mean Absolute Error\")\n",
        "  plt.legend(loc=\"best\")\n",
        "  plt.show()  "
      ],
      "execution_count": null,
      "outputs": []
    },
    {
      "cell_type": "markdown",
      "metadata": {
        "id": "qtxmHSxrTFXa"
      },
      "source": [
        "# **Méthode n°1: Entrainement sur les données intitulées Test et test sur les données de références**"
      ]
    },
    {
      "cell_type": "markdown",
      "metadata": {
        "id": "dennhEjHqyLm"
      },
      "source": [
        "## **Régression Linéaire**"
      ]
    },
    {
      "cell_type": "code",
      "metadata": {
        "id": "HGqz6JVjYv1S",
        "colab": {
          "base_uri": "https://localhost:8080/",
          "height": 68
        },
        "outputId": "207808d0-6944-4d9b-e097-35f97a80843f"
      },
      "source": [
        "LinR=LinearRegression()\n",
        "#Entrainement du modèle\n",
        "LinR.fit(X_train, y_train)\n",
        "#Evaluation du modèle\n",
        "scores_linr=compute_score(LinR)\n"
      ],
      "execution_count": null,
      "outputs": [
        {
          "output_type": "stream",
          "text": [
            "Mean Absolute Error: 3.70\n",
            "Root Mean Squared Error: 7.39\n",
            "R2 score: 0.97\n"
          ],
          "name": "stdout"
        }
      ]
    },
    {
      "cell_type": "code",
      "metadata": {
        "id": "ds5u-rDDqc2X"
      },
      "source": [
        "#plot_curves(LinearRegression())"
      ],
      "execution_count": null,
      "outputs": []
    },
    {
      "cell_type": "markdown",
      "metadata": {
        "id": "nCunPoonIadj"
      },
      "source": [
        "# **S.V.M.**"
      ]
    },
    {
      "cell_type": "code",
      "metadata": {
        "id": "oo1gIsTKHXNh",
        "colab": {
          "base_uri": "https://localhost:8080/",
          "height": 68
        },
        "outputId": "a27d7701-8dd9-4962-d653-1e5443054dc2"
      },
      "source": [
        "svm = SVR(gamma= 'auto') \n",
        "#Entrainement du modèle\n",
        "svm.fit(X_train, y_train)\n",
        "#Obtention des scores\n",
        "scores_svm=compute_score(svm)"
      ],
      "execution_count": null,
      "outputs": [
        {
          "output_type": "stream",
          "text": [
            "Mean Absolute Error: 8.03\n",
            "Root Mean Squared Error: 28.85\n",
            "R2 score: 0.61\n"
          ],
          "name": "stdout"
        }
      ]
    },
    {
      "cell_type": "code",
      "metadata": {
        "id": "GdsIV0WtFsk3"
      },
      "source": [
        "#plot_curves(SVR(gamma= 'auto'))"
      ],
      "execution_count": null,
      "outputs": []
    },
    {
      "cell_type": "markdown",
      "metadata": {
        "id": "bBfGPvR2Itli"
      },
      "source": [
        "# **Random Forest**"
      ]
    },
    {
      "cell_type": "code",
      "metadata": {
        "id": "qife0VGAIec4",
        "colab": {
          "base_uri": "https://localhost:8080/",
          "height": 68
        },
        "outputId": "0ff12725-c21c-424d-ea6b-406432239030"
      },
      "source": [
        "rf = RandomForestRegressor(n_estimators=50, max_features='sqrt' , criterion= 'mse', max_depth=30, random_state=42) \n",
        "#Entrainement du modèle\n",
        "rf.fit(X_train, y_train)\n",
        "#Obtention des scores\n",
        "scores_rf=compute_score(rf)"
      ],
      "execution_count": null,
      "outputs": [
        {
          "output_type": "stream",
          "text": [
            "Mean Absolute Error: 1.82\n",
            "Root Mean Squared Error: 3.72\n",
            "R2 score: 0.99\n"
          ],
          "name": "stdout"
        }
      ]
    },
    {
      "cell_type": "code",
      "metadata": {
        "id": "eRwOF1N8F_zT"
      },
      "source": [
        "#plot_curves(RandomForestRegressor(n_estimators=50, max_features='sqrt' , criterion= 'mse', max_depth=30, random_state=42) )"
      ],
      "execution_count": null,
      "outputs": []
    },
    {
      "cell_type": "markdown",
      "metadata": {
        "id": "fhrToYTbJBAt"
      },
      "source": [
        "# **Neural Network**"
      ]
    },
    {
      "cell_type": "code",
      "metadata": {
        "id": "8PCiex8bI3Wg",
        "colab": {
          "base_uri": "https://localhost:8080/",
          "height": 68
        },
        "outputId": "1c854861-24ef-48f6-b8ee-1f4b1826da99"
      },
      "source": [
        "mlp=MLPRegressor(hidden_layer_sizes=(42,32,22,12,),\n",
        "                                       activation='tanh',\n",
        "                                       solver='adam',\n",
        "                                       batch_size=int(0.05*X_train.shape[0]),\n",
        "                                       learning_rate='adaptive',\n",
        "                                       max_iter=1000,\n",
        "                                       learning_rate_init=0.01,\n",
        "                                       alpha=0.01)\n",
        "#Entrainement du modèle\n",
        "mlp.fit(X_train, y_train)\n",
        "scores_mlp=compute_score(mlp)"
      ],
      "execution_count": null,
      "outputs": [
        {
          "output_type": "stream",
          "text": [
            "Mean Absolute Error: 4.75\n",
            "Root Mean Squared Error: 11.22\n",
            "R2 score: 0.94\n"
          ],
          "name": "stdout"
        }
      ]
    },
    {
      "cell_type": "markdown",
      "metadata": {
        "id": "kDh23ysbKw28"
      },
      "source": [
        "# **GradientBoosting**"
      ]
    },
    {
      "cell_type": "code",
      "metadata": {
        "id": "SpurKPzeKviG",
        "colab": {
          "base_uri": "https://localhost:8080/",
          "height": 34
        },
        "outputId": "3a9e0f9f-b815-467d-e3e8-3d3c46f1d2ed"
      },
      "source": [
        "\"\"\"\n",
        "Gb = GradientBoostingRegressor(loss='ls', n_estimators=80)\n",
        "Gb.fit(X_train, y_train)\n",
        "scores_Gb=compute_score(Gb)\n",
        "\"\"\""
      ],
      "execution_count": null,
      "outputs": [
        {
          "output_type": "execute_result",
          "data": {
            "text/plain": [
              "\"\\nGb = GradientBoostingRegressor(loss='ls', n_estimators=80)\\nGb.fit(X_train, y_train)\\nscores_Gb=compute_score(Gb)\\n\""
            ]
          },
          "metadata": {
            "tags": []
          },
          "execution_count": 54
        }
      ]
    },
    {
      "cell_type": "code",
      "metadata": {
        "id": "snMhdBL5GMjS"
      },
      "source": [
        "#plot_curves(GradientBoostingRegressor(loss='ls', n_estimators=80))"
      ],
      "execution_count": null,
      "outputs": []
    },
    {
      "cell_type": "markdown",
      "metadata": {
        "id": "k6ifBH3KLX0R"
      },
      "source": [
        "# **XGBoost**"
      ]
    },
    {
      "cell_type": "code",
      "metadata": {
        "id": "X6zgp20jLXas",
        "colab": {
          "base_uri": "https://localhost:8080/",
          "height": 34
        },
        "outputId": "17f426e8-75ea-4e00-82ef-66b07a8986ad"
      },
      "source": [
        "\"\"\"\n",
        "XGb = XGBRegressor()\n",
        "XGb.fit(X_train, y_train)\n",
        "scores_XGb=compute_score(XGb)\n",
        "\"\"\""
      ],
      "execution_count": null,
      "outputs": [
        {
          "output_type": "execute_result",
          "data": {
            "text/plain": [
              "'\\nXGb = XGBRegressor()\\nXGb.fit(X_train, y_train)\\nscores_XGb=compute_score(XGb)\\n'"
            ]
          },
          "metadata": {
            "tags": []
          },
          "execution_count": 56
        }
      ]
    },
    {
      "cell_type": "markdown",
      "metadata": {
        "id": "bud8VISbouJu"
      },
      "source": [
        "# **Grid Search**"
      ]
    },
    {
      "cell_type": "code",
      "metadata": {
        "id": "dtXgOwvmotHQ"
      },
      "source": [
        "# turn run_gs to True if you want to run the gridsearch again.\n",
        "def run_GS(model='Gb', run_gs=False, parameters={}, X_train=X_train, y_train=y_train):\n",
        "\n",
        "  if run_gs:\n",
        "\n",
        "    if(model=='Gb'):\n",
        "      parameter_grid = {'loss': ['ls'],\n",
        "                        'learning_rate': [0.1],\n",
        "                        'n_estimators': [400, 600, 800]\n",
        "                        }\n",
        "      regressor = GradientBoostingRegressor()\n",
        "    \n",
        "    #XGBoost\n",
        "    elif(model=='XGb'):\n",
        "    \n",
        "      parameter_grid = {'booster' : ['gbtree', 'gblinear', 'dart'],\n",
        "                        'eta' : [0.2, 0.3, 0.4],\n",
        "                        'max_depth': [3, 6, 10]\n",
        "                      } \n",
        "    \n",
        "    \n",
        "      regressor = XGBRegressor()\n",
        "    \n",
        "\n",
        "\n",
        "    cross_validation = KFold(n_splits=5)\n",
        "\n",
        "    grid_search = GridSearchCV(regressor,\n",
        "                                scoring='neg_mean_squared_error',\n",
        "                                param_grid=parameter_grid,\n",
        "                                cv=cross_validation,\n",
        "                                verbose=1\n",
        "                                )\n",
        "    grid_search.fit(X_train, y_train)\n",
        "\n",
        "    print('Best score: {}'.format(grid_search.best_score_))\n",
        "    print('Best parameters: {}'.format(grid_search.best_params_))\n",
        "    return(grid_search.best_params_)\n",
        "      \n",
        "  else: \n",
        "    if(model=='Gb'):\n",
        "      regressor = GradientBoostingRegressor(**parameters)\n",
        "    elif(model=='XGb'):\n",
        "      regressor = XGBRegressor(**parameters)\n",
        "\n",
        "    regressor.fit(X_train, y_train)\n",
        "    scores=compute_score(regressor)\n",
        "    return(scores)"
      ],
      "execution_count": null,
      "outputs": []
    },
    {
      "cell_type": "code",
      "metadata": {
        "id": "bCwF5SBqz2zA"
      },
      "source": [
        "#XGb_parameters=run_GS(model='XGb', run_gs=True)\n",
        "XGb_parameters={'booster': 'gbtree', 'eta': 0.2, 'max_depth': 10, 'objective' :'reg:squarederror'}"
      ],
      "execution_count": null,
      "outputs": []
    },
    {
      "cell_type": "code",
      "metadata": {
        "id": "s4oH4XOu1biO",
        "colab": {
          "base_uri": "https://localhost:8080/",
          "height": 68
        },
        "outputId": "e65cd144-f241-4bdf-bb38-9c76f2c3eb88"
      },
      "source": [
        "XGb_GS=XGBRegressor(**XGb_parameters)\n",
        "XGb_GS.fit(X_train, y_train)\n",
        "scores_XGb_GS = compute_score(XGb_GS)"
      ],
      "execution_count": null,
      "outputs": [
        {
          "output_type": "stream",
          "text": [
            "Mean Absolute Error: 1.32\n",
            "Root Mean Squared Error: 2.80\n",
            "R2 score: 1.00\n"
          ],
          "name": "stdout"
        }
      ]
    },
    {
      "cell_type": "code",
      "metadata": {
        "id": "05pdOLEkKWP3",
        "colab": {
          "base_uri": "https://localhost:8080/",
          "height": 295
        },
        "outputId": "d47bbec7-e442-49a6-efba-a4d97a9668ee"
      },
      "source": [
        "plot_curves(XGBRegressor(**XGb_parameters), cv=5)"
      ],
      "execution_count": null,
      "outputs": [
        {
          "output_type": "display_data",
          "data": {
            "image/png": "[encoded data removed]",
            "text/plain": [
              "<Figure size 432x288 with 1 Axes>"
            ]
          },
          "metadata": {
            "tags": []
          }
        }
      ]
    },
    {
      "cell_type": "code",
      "metadata": {
        "id": "AeAOmPRGpYXp"
      },
      "source": [
        "#Gb_parameters=run_GS(model='Gb', run_gs=True)\n",
        "Gb_parameters={'learning_rate': 0.1, 'loss': 'ls', 'n_estimators': 800}"
      ],
      "execution_count": null,
      "outputs": []
    },
    {
      "cell_type": "code",
      "metadata": {
        "id": "HE2PYGWowTtS",
        "colab": {
          "base_uri": "https://localhost:8080/",
          "height": 68
        },
        "outputId": "86e71e39-346a-4783-d496-1a1d99df474e"
      },
      "source": [
        "Gb_GS=GradientBoostingRegressor(**Gb_parameters)\n",
        "Gb_GS.fit(X_train, y_train)\n",
        "scores_Gb_GS = compute_score(Gb_GS)"
      ],
      "execution_count": null,
      "outputs": [
        {
          "output_type": "stream",
          "text": [
            "Mean Absolute Error: 1.73\n",
            "Root Mean Squared Error: 3.04\n",
            "R2 score: 1.00\n"
          ],
          "name": "stdout"
        }
      ]
    },
    {
      "cell_type": "code",
      "metadata": {
        "id": "xcMisAUONbQN",
        "colab": {
          "base_uri": "https://localhost:8080/",
          "height": 295
        },
        "outputId": "97b3e014-53ba-4fac-d69e-ae4ee3f71b87"
      },
      "source": [
        "plot_curves(GradientBoostingRegressor(**Gb_parameters))"
      ],
      "execution_count": null,
      "outputs": [
        {
          "output_type": "display_data",
          "data": {
            "image/png": "[encoded data removed]",
            "text/plain": [
              "<Figure size 432x288 with 1 Axes>"
            ]
          },
          "metadata": {
            "tags": []
          }
        }
      ]
    },
    {
      "cell_type": "markdown",
      "metadata": {
        "id": "78nv4Voe2YAM"
      },
      "source": [
        "## **Modèle Ensembliste**"
      ]
    },
    {
      "cell_type": "code",
      "metadata": {
        "id": "P2MzG3MD2XUn",
        "colab": {
          "base_uri": "https://localhost:8080/",
          "height": 68
        },
        "outputId": "e99812c0-91d4-4bc5-a0dc-a515efdca8f7"
      },
      "source": [
        "from sklearn.ensemble import VotingRegressor\n",
        "\n",
        "xgb_ens=XGBRegressor(**XGb_parameters)\n",
        "gb_ens= GradientBoostingRegressor(**Gb_parameters)\n",
        "#linr_ens=LinearRegression()\n",
        "\n",
        "estimators=[]\n",
        "estimators.append(('XGBoost', xgb_ens))\n",
        "estimators.append(('Gradient Boosting', gb_ens))\n",
        "\n",
        "ensemble = VotingRegressor(estimators)\n",
        "ensemble.fit(X_train, y_train)\n",
        "scores_ens= compute_score(ensemble)"
      ],
      "execution_count": null,
      "outputs": [
        {
          "output_type": "stream",
          "text": [
            "Mean Absolute Error: 1.45\n",
            "Root Mean Squared Error: 2.74\n",
            "R2 score: 1.00\n"
          ],
          "name": "stdout"
        }
      ]
    },
    {
      "cell_type": "code",
      "metadata": {
        "id": "yobE3IEgPb5s",
        "colab": {
          "base_uri": "https://localhost:8080/",
          "height": 295
        },
        "outputId": "f528c325-8c08-41c5-e84d-f5e27d0e4a19"
      },
      "source": [
        "plot_curves(VotingRegressor(estimators))"
      ],
      "execution_count": null,
      "outputs": [
        {
          "output_type": "display_data",
          "data": {
            "image/png": "[encoded data removed]",
            "text/plain": [
              "<Figure size 432x288 with 1 Axes>"
            ]
          },
          "metadata": {
            "tags": []
          }
        }
      ]
    },
    {
      "cell_type": "markdown",
      "metadata": {
        "id": "LoXom-yeGhkg"
      },
      "source": [
        "# **Ranking des modèles de Machine Learning**\n"
      ]
    },
    {
      "cell_type": "code",
      "metadata": {
        "id": "awszOMGVtaCM",
        "colab": {
          "base_uri": "https://localhost:8080/",
          "height": 235
        },
        "outputId": "ef902c5d-54cf-44c2-b8a5-0c46dea46e7a"
      },
      "source": [
        "models = pd.DataFrame({\n",
        "    'Model': ['Linear Regression','Support Vector Machine', 'Random Forest','Gradient Boosting GS'  , 'XG Boost GS', '(XGB_GS+ GB_GS)'],\n",
        "    'R2 score':  [scores_linr[2], scores_svm[2], scores_rf[2], scores_Gb_GS[2], scores_XGb_GS[2], scores_ens[2]],\n",
        "    'RMSE score': [scores_linr[1], scores_svm[1], scores_rf[1], scores_Gb_GS[1],  scores_XGb_GS[1], scores_ens[1]],\n",
        "    'MAE score': [scores_linr[0], scores_svm[0], scores_rf[0], scores_Gb_GS[0], scores_XGb_GS[0], scores_ens[0]],\n",
        "\n",
        "    })\n",
        "models.sort_values(by='R2 score', ascending=False)"
      ],
      "execution_count": null,
      "outputs": [
        {
          "output_type": "execute_result",
          "data": {
            "text/html": [
              "<div>\n",
              "<style scoped>\n",
              "    .dataframe tbody tr th:only-of-type {\n",
              "        vertical-align: middle;\n",
              "    }\n",
              "\n",
              "    .dataframe tbody tr th {\n",
              "        vertical-align: top;\n",
              "    }\n",
              "\n",
              "    .dataframe thead th {\n",
              "        text-align: right;\n",
              "    }\n",
              "</style>\n",
              "<table border=\"1\" class=\"dataframe\">\n",
              "  <thead>\n",
              "    <tr style=\"text-align: right;\">\n",
              "      <th></th>\n",
              "      <th>Model</th>\n",
              "      <th>R2 score</th>\n",
              "      <th>RMSE score</th>\n",
              "      <th>MAE score</th>\n",
              "    </tr>\n",
              "  </thead>\n",
              "  <tbody>\n",
              "    <tr>\n",
              "      <th>5</th>\n",
              "      <td>(XGB_GS+ GB_GS)</td>\n",
              "      <td>0.996295</td>\n",
              "      <td>2.739077</td>\n",
              "      <td>1.448299</td>\n",
              "    </tr>\n",
              "    <tr>\n",
              "      <th>4</th>\n",
              "      <td>XG Boost GS</td>\n",
              "      <td>0.996118</td>\n",
              "      <td>2.800439</td>\n",
              "      <td>1.323523</td>\n",
              "    </tr>\n",
              "    <tr>\n",
              "      <th>3</th>\n",
              "      <td>Gradient Boosting GS</td>\n",
              "      <td>0.995520</td>\n",
              "      <td>3.036227</td>\n",
              "      <td>1.725283</td>\n",
              "    </tr>\n",
              "    <tr>\n",
              "      <th>2</th>\n",
              "      <td>Random Forest</td>\n",
              "      <td>0.993398</td>\n",
              "      <td>3.716358</td>\n",
              "      <td>1.823664</td>\n",
              "    </tr>\n",
              "    <tr>\n",
              "      <th>0</th>\n",
              "      <td>Linear Regression</td>\n",
              "      <td>0.973891</td>\n",
              "      <td>7.386096</td>\n",
              "      <td>3.700434</td>\n",
              "    </tr>\n",
              "    <tr>\n",
              "      <th>1</th>\n",
              "      <td>Support Vector Machine</td>\n",
              "      <td>0.605025</td>\n",
              "      <td>28.854490</td>\n",
              "      <td>8.028324</td>\n",
              "    </tr>\n",
              "  </tbody>\n",
              "</table>\n",
              "</div>"
            ],
            "text/plain": [
              "                    Model  R2 score  RMSE score  MAE score\n",
              "5         (XGB_GS+ GB_GS)  0.996295    2.739077   1.448299\n",
              "4             XG Boost GS  0.996118    2.800439   1.323523\n",
              "3    Gradient Boosting GS  0.995520    3.036227   1.725283\n",
              "2           Random Forest  0.993398    3.716358   1.823664\n",
              "0       Linear Regression  0.973891    7.386096   3.700434\n",
              "1  Support Vector Machine  0.605025   28.854490   8.028324"
            ]
          },
          "metadata": {
            "tags": []
          },
          "execution_count": 66
        }
      ]
    },
    {
      "cell_type": "markdown",
      "metadata": {
        "id": "F6PkAb1rg_aY"
      },
      "source": [
        "# **Performances du modèle sur l'ensemble de références**"
      ]
    },
    {
      "cell_type": "code",
      "metadata": {
        "id": "CN9HJYxjMDyU",
        "colab": {
          "base_uri": "https://localhost:8080/",
          "height": 80
        },
        "outputId": "4bc128a6-edfb-43d4-d075-95144e5d24fb"
      },
      "source": [
        "def evaluate(clf, X_test=X_test, y_test=y_test):\n",
        "\n",
        "  y_predict=clf.predict(X_test)\n",
        "\n",
        "  score_RMSE = np.sqrt(metrics.mean_squared_error(y_test, y_predict))\n",
        "  score_MAE = metrics.mean_absolute_error(y_test, y_predict)\n",
        "  #score_R2 = metrics.r2_score(y_test, y_predict)\n",
        "\n",
        "  df_res=pd.DataFrame({'RMSE Score': [score_RMSE],\n",
        "                       'MAE Score': [score_MAE],\n",
        "                       'Coût Moyen': [y_test.mean()],\n",
        "                       'Erreur Relative Moyenne': [score_MAE/(y_test.mean())],\n",
        "                       },\n",
        "                      index=['Ensemble (Gb_GS + XGb_GS)'])\n",
        "  return(df_res)\n",
        "\n",
        "\n",
        "res=evaluate(ensemble)\n",
        "res.head()\n"
      ],
      "execution_count": null,
      "outputs": [
        {
          "output_type": "execute_result",
          "data": {
            "text/html": [
              "<div>\n",
              "<style scoped>\n",
              "    .dataframe tbody tr th:only-of-type {\n",
              "        vertical-align: middle;\n",
              "    }\n",
              "\n",
              "    .dataframe tbody tr th {\n",
              "        vertical-align: top;\n",
              "    }\n",
              "\n",
              "    .dataframe thead th {\n",
              "        text-align: right;\n",
              "    }\n",
              "</style>\n",
              "<table border=\"1\" class=\"dataframe\">\n",
              "  <thead>\n",
              "    <tr style=\"text-align: right;\">\n",
              "      <th></th>\n",
              "      <th>RMSE Score</th>\n",
              "      <th>MAE Score</th>\n",
              "      <th>Coût Moyen</th>\n",
              "      <th>Erreur Relative Moyenne</th>\n",
              "    </tr>\n",
              "  </thead>\n",
              "  <tbody>\n",
              "    <tr>\n",
              "      <th>Ensemble (Gb_GS + XGb_GS)</th>\n",
              "      <td>39.550469</td>\n",
              "      <td>19.173972</td>\n",
              "      <td>74.812267</td>\n",
              "      <td>0.256294</td>\n",
              "    </tr>\n",
              "  </tbody>\n",
              "</table>\n",
              "</div>"
            ],
            "text/plain": [
              "                           RMSE Score  MAE Score  Coût Moyen  \\\n",
              "Ensemble (Gb_GS + XGb_GS)   39.550469  19.173972   74.812267   \n",
              "\n",
              "                           Erreur Relative Moyenne  \n",
              "Ensemble (Gb_GS + XGb_GS)                 0.256294  "
            ]
          },
          "metadata": {
            "tags": []
          },
          "execution_count": 67
        }
      ]
    },
    {
      "cell_type": "markdown",
      "metadata": {
        "id": "Lq1Pnm9-SVGp"
      },
      "source": [
        "# **Méthode n°2: Entrainement d'un modèle sur les références puis test sur le fichier Test**"
      ]
    },
    {
      "cell_type": "code",
      "metadata": {
        "id": "lt3Fjy0u12Ig",
        "colab": {
          "base_uri": "https://localhost:8080/",
          "height": 68
        },
        "outputId": "503cd380-6908-409d-8023-1b5d27336076"
      },
      "source": [
        "ensemble = VotingRegressor(estimators)\n",
        "ensemble.fit(X_test, y_test)\n",
        "\n",
        "scores_ref_ens= compute_score(ensemble, X=X_test, y=y_test)"
      ],
      "execution_count": null,
      "outputs": [
        {
          "output_type": "stream",
          "text": [
            "Mean Absolute Error: 3.80\n",
            "Root Mean Squared Error: 17.10\n",
            "R2 score: 0.95\n"
          ],
          "name": "stdout"
        }
      ]
    },
    {
      "cell_type": "code",
      "metadata": {
        "id": "geM3zzM5TShY",
        "colab": {
          "base_uri": "https://localhost:8080/",
          "height": 295
        },
        "outputId": "ab79154f-9511-4494-bf22-f64c51aed9a3"
      },
      "source": [
        "plot_curves(ensemble, X=X_test, y=y_test)"
      ],
      "execution_count": null,
      "outputs": [
        {
          "output_type": "display_data",
          "data": {
            "image/png": "[encoded data removed]",
            "text/plain": [
              "<Figure size 432x288 with 1 Axes>"
            ]
          },
          "metadata": {
            "tags": []
          }
        }
      ]
    },
    {
      "cell_type": "markdown",
      "metadata": {
        "id": "b--S1Db2TQ70"
      },
      "source": [
        "# **Performances du modèle sur l'ensemble de Test**"
      ]
    },
    {
      "cell_type": "code",
      "metadata": {
        "id": "KjI6-2m4SlUS",
        "colab": {
          "base_uri": "https://localhost:8080/",
          "height": 80
        },
        "outputId": "f1f65286-3fbb-4d05-9be9-94439e16f480"
      },
      "source": [
        "evaluate(ensemble, X_test=X_train, y_test=y_train)"
      ],
      "execution_count": null,
      "outputs": [
        {
          "output_type": "execute_result",
          "data": {
            "text/html": [
              "<div>\n",
              "<style scoped>\n",
              "    .dataframe tbody tr th:only-of-type {\n",
              "        vertical-align: middle;\n",
              "    }\n",
              "\n",
              "    .dataframe tbody tr th {\n",
              "        vertical-align: top;\n",
              "    }\n",
              "\n",
              "    .dataframe thead th {\n",
              "        text-align: right;\n",
              "    }\n",
              "</style>\n",
              "<table border=\"1\" class=\"dataframe\">\n",
              "  <thead>\n",
              "    <tr style=\"text-align: right;\">\n",
              "      <th></th>\n",
              "      <th>RMSE Score</th>\n",
              "      <th>MAE Score</th>\n",
              "      <th>Coût Moyen</th>\n",
              "      <th>Erreur Relative Moyenne</th>\n",
              "    </tr>\n",
              "  </thead>\n",
              "  <tbody>\n",
              "    <tr>\n",
              "      <th>Ensemble (Gb_GS + XGb_GS)</th>\n",
              "      <td>36.767052</td>\n",
              "      <td>19.667037</td>\n",
              "      <td>58.93441</td>\n",
              "      <td>0.333711</td>\n",
              "    </tr>\n",
              "  </tbody>\n",
              "</table>\n",
              "</div>"
            ],
            "text/plain": [
              "                           RMSE Score  MAE Score  Coût Moyen  \\\n",
              "Ensemble (Gb_GS + XGb_GS)   36.767052  19.667037    58.93441   \n",
              "\n",
              "                           Erreur Relative Moyenne  \n",
              "Ensemble (Gb_GS + XGb_GS)                 0.333711  "
            ]
          },
          "metadata": {
            "tags": []
          },
          "execution_count": 70
        }
      ]
    }
  ]
}